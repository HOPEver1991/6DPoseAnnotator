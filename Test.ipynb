{
 "cells": [
  {
   "cell_type": "markdown",
   "metadata": {},
   "source": [
    "# Open3Dで点群処理"
   ]
  },
  {
   "cell_type": "code",
   "execution_count": 1,
   "metadata": {},
   "outputs": [],
   "source": [
    "import numpy as np\n",
    "import open3d as o3"
   ]
  },
  {
   "cell_type": "code",
   "execution_count": 8,
   "metadata": {},
   "outputs": [],
   "source": [
    "cloud_m = o3.read_point_cloud(\"./data/hammer_1.pcd\")"
   ]
  },
  {
   "cell_type": "markdown",
   "metadata": {},
   "source": [
    "# 汎用的に使える関数"
   ]
  },
  {
   "cell_type": "code",
   "execution_count": 9,
   "metadata": {},
   "outputs": [],
   "source": [
    "def Centering( cloud_in ):\n",
    "    \"\"\"\n",
    "    Centering()\n",
    "    offset an input cloud to its centroid.\n",
    "    \n",
    "    input(s):\n",
    "        cloud_in: point cloud to be centered\n",
    "    output(s):\n",
    "        cloud_off: \n",
    "    \"\"\"\n",
    "    np_m = np.asarray(cloud_in.points) \n",
    "    center = np.mean(np_m, axis=0)\n",
    "    np_m[:] -= center\n",
    "    \n",
    "    cloud_off = o3.PointCloud()\n",
    "    cloud_off.points = o3.Vector3dVector(np_m)\n",
    "    \n",
    "    return cloud_off"
   ]
  },
  {
   "cell_type": "code",
   "execution_count": 10,
   "metadata": {},
   "outputs": [],
   "source": [
    "def Scaling( cloud_in, scale ):\n",
    "    \"\"\"\n",
    "    Scaling()\n",
    "    \n",
    "    input(s):\n",
    "        cloud_in: point cloud to be scaled.\n",
    "        scale: scaling factor\n",
    "    output(s):\n",
    "        cloud_out: \n",
    "    \"\"\"   \n",
    "    cloud_np = np.asarray(cloud_in.points) \n",
    "    cloud_np *= scale\n",
    "    cloud_out = o3.PointCloud()\n",
    "    cloud_out.points = o3.Vector3dVector(cloud_np)\n",
    "    \n",
    "    return cloud_out"
   ]
  },
  {
   "cell_type": "code",
   "execution_count": 11,
   "metadata": {},
   "outputs": [],
   "source": [
    "cloud_m_c = Centering(cloud_m)"
   ]
  },
  {
   "cell_type": "code",
   "execution_count": 12,
   "metadata": {},
   "outputs": [],
   "source": [
    "cloud_m_c = Scaling(cloud_m_c, 0.001)"
   ]
  },
  {
   "cell_type": "code",
   "execution_count": 13,
   "metadata": {},
   "outputs": [
    {
     "name": "stdout",
     "output_type": "stream",
     "text": [
      "PointCloud with 1057767 points.\n",
      "(1057767, 3)\n"
     ]
    }
   ],
   "source": [
    "print(cloud_m_c)\n",
    "print(np.asarray(cloud_m_c.points).shape)"
   ]
  },
  {
   "cell_type": "code",
   "execution_count": 19,
   "metadata": {},
   "outputs": [
    {
     "name": "stdout",
     "output_type": "stream",
     "text": [
      "[-0.08521509 -0.09173449 -0.02257849]\n"
     ]
    }
   ],
   "source": [
    "cloud_np = np.asarray(cloud_m_c.points)\n",
    "cloud_min = np.min(cloud_np,axis=0)\n",
    "print(cloud_min)"
   ]
  },
  {
   "cell_type": "code",
   "execution_count": null,
   "metadata": {},
   "outputs": [],
   "source": []
  },
  {
   "cell_type": "code",
   "execution_count": 8,
   "metadata": {},
   "outputs": [
    {
     "name": "stdout",
     "output_type": "stream",
     "text": [
      "PointCloud with 13266 points.\n",
      "[[-0.03124031 -0.02976083  0.02346314]\n",
      " [-0.01578999 -0.03845723  0.02255777]\n",
      " [-0.03380228 -0.02653974  0.02258453]\n",
      " ...\n",
      " [-0.02919985 -0.01938886  0.01141613]\n",
      " [-0.00041063 -0.03890944  0.01201567]\n",
      " [-0.03257511 -0.01696121  0.01201802]]\n"
     ]
    }
   ],
   "source": [
    "voxel_size = 0.002\n",
    "cloud_m_ds = o3.voxel_down_sample(cloud_m_c, voxel_size)\n",
    "print(cloud_m_ds)\n",
    "print(np.asarray(cloud_m_ds.points))"
   ]
  },
  {
   "cell_type": "code",
   "execution_count": 9,
   "metadata": {},
   "outputs": [],
   "source": [
    "offset = np.array([0.03,0.13,0.88])\n",
    "\n",
    "np_tmp = np.asarray(cloud_m_ds.points) \n",
    "np_tmp += offset\n",
    "cloud_m_ds.points = o3.Vector3dVector(np_tmp)\n"
   ]
  },
  {
   "cell_type": "code",
   "execution_count": 11,
   "metadata": {},
   "outputs": [
    {
     "name": "stdout",
     "output_type": "stream",
     "text": [
      "[-0.00124031  0.10023917  0.90346314]\n"
     ]
    }
   ],
   "source": [
    "print(cloud_m_ds.points[0])"
   ]
  },
  {
   "cell_type": "code",
   "execution_count": 38,
   "metadata": {},
   "outputs": [],
   "source": [
    "class Mapping():\n",
    "    def __init__(self, camera_intrinsic_name, _w=640, _h=480, _d=400.0 ):\n",
    "        self.camera_intrinsic = o3.read_pinhole_camera_intrinsic(camera_intrinsic_name)\n",
    "        self.width = _w\n",
    "        self.height = _h\n",
    "        self.d = _d\n",
    "        self.camera_intrinsic4x4 = np.identity(4)\n",
    "        self.camera_intrinsic4x4[0,0] = self.camera_intrinsic.intrinsic_matrix[0,0]\n",
    "        self.camera_intrinsic4x4[1,1] = self.camera_intrinsic.intrinsic_matrix[1,1]\n",
    "        self.camera_intrinsic4x4[0,3] = self.camera_intrinsic.intrinsic_matrix[0,2]\n",
    "        self.camera_intrinsic4x4[1,3] = self.camera_intrinsic.intrinsic_matrix[1,2]\n",
    "        \n",
    "    def showCameraIntrinsic(self):\n",
    "        print(self.camera_intrinsic.intrinsic_matrix)\n",
    "        print(self.camera_intrinsic4x4)\n",
    "\n",
    "    def Cloud2Image( self, cloud_in ):\n",
    "        \n",
    "        img = np.zeros( [self.height, self.width], dtype=np.uint8 )\n",
    "        \n",
    "        cloud_np = np.asarray(cloud_in.points)\n",
    "        cloud_np = cloud_np[:,:] / cloud_np[:,[2]]\n",
    "        cloud_mapped = o3.PointCloud()\n",
    "        cloud_mapped.points = o3.Vector3dVector(cloud_np)\n",
    "        cloud_mapped.transform(self.camera_intrinsic4x4)\n",
    "        print(np.asarray(cloud_mapped.points))\n",
    "        \n",
    "        for pix in cloud_mapped.points:\n",
    "            if pix[0]<self.width and 0<pix[0] and pix[1]<self.height and 0<pix[1]:\n",
    "                img[int(pix[1]),int(pix[0])] = 255\n",
    "        \n",
    "        return img"
   ]
  },
  {
   "cell_type": "code",
   "execution_count": 39,
   "metadata": {},
   "outputs": [],
   "source": [
    "mapping = Mapping('realsense_intrinsic.json')"
   ]
  },
  {
   "cell_type": "code",
   "execution_count": 40,
   "metadata": {},
   "outputs": [
    {
     "name": "stdout",
     "output_type": "stream",
     "text": [
      "[[627.64233398   0.         327.36773682]\n",
      " [  0.         627.64233398 239.5690155 ]\n",
      " [  0.           0.           1.        ]]\n",
      "[[627.64233398   0.           0.         327.36773682]\n",
      " [  0.         627.64233398   0.         239.5690155 ]\n",
      " [  0.           0.           1.           0.        ]\n",
      " [  0.           0.           0.           1.        ]]\n"
     ]
    }
   ],
   "source": [
    "mapping.showCameraIntrinsic()"
   ]
  },
  {
   "cell_type": "code",
   "execution_count": 41,
   "metadata": {},
   "outputs": [
    {
     "name": "stdout",
     "output_type": "stream",
     "text": [
      "[[326.50608505 309.20588429   1.        ]\n",
      " [337.24943306 303.22823149   1.        ]\n",
      " [324.72369704 311.51356591   1.        ]\n",
      " ...\n",
      " [327.93111911 317.44985351   1.        ]\n",
      " [348.1874811  303.66238367   1.        ]\n",
      " [325.55583824 319.1054454    1.        ]]\n"
     ]
    }
   ],
   "source": [
    "img_mapped = mapping.Cloud2Image( cloud_m_ds )"
   ]
  },
  {
   "cell_type": "code",
   "execution_count": 42,
   "metadata": {},
   "outputs": [],
   "source": [
    "import cv2"
   ]
  },
  {
   "cell_type": "code",
   "execution_count": 43,
   "metadata": {},
   "outputs": [
    {
     "name": "stdout",
     "output_type": "stream",
     "text": [
      "(480, 640)\n"
     ]
    },
    {
     "data": {
      "text/plain": [
       "True"
      ]
     },
     "execution_count": 43,
     "metadata": {},
     "output_type": "execute_result"
    }
   ],
   "source": [
    "print(img_mapped.shape)\n",
    "cv2.imwrite('mapped.png',img_mapped)"
   ]
  },
  {
   "cell_type": "code",
   "execution_count": 97,
   "metadata": {},
   "outputs": [
    {
     "data": {
      "text/plain": [
       "array([[ 0,  1,  2],\n",
       "       [ 3,  4,  5],\n",
       "       [ 6,  7,  8],\n",
       "       [ 9, 10, 11],\n",
       "       [12, 13, 14]])"
      ]
     },
     "execution_count": 97,
     "metadata": {},
     "output_type": "execute_result"
    }
   ],
   "source": [
    "x = np.arange(15).reshape(5,3)\n",
    "x"
   ]
  },
  {
   "cell_type": "code",
   "execution_count": 104,
   "metadata": {},
   "outputs": [],
   "source": [
    "z = x[:,:] / x[:,[2]]"
   ]
  },
  {
   "cell_type": "code",
   "execution_count": 105,
   "metadata": {},
   "outputs": [
    {
     "data": {
      "text/plain": [
       "array([[0.        , 0.5       , 1.        ],\n",
       "       [0.6       , 0.8       , 1.        ],\n",
       "       [0.75      , 0.875     , 1.        ],\n",
       "       [0.81818182, 0.90909091, 1.        ],\n",
       "       [0.85714286, 0.92857143, 1.        ]])"
      ]
     },
     "execution_count": 105,
     "metadata": {},
     "output_type": "execute_result"
    }
   ],
   "source": [
    "z"
   ]
  },
  {
   "cell_type": "code",
   "execution_count": 112,
   "metadata": {},
   "outputs": [
    {
     "ename": "ValueError",
     "evalue": "operands could not be broadcast together with shapes (5,3) (4,4) ",
     "output_type": "error",
     "traceback": [
      "\u001b[0;31m---------------------------------------------------------------------------\u001b[0m",
      "\u001b[0;31mValueError\u001b[0m                                Traceback (most recent call last)",
      "\u001b[0;32m<ipython-input-112-b4511338b5be>\u001b[0m in \u001b[0;36m<module>\u001b[0;34m()\u001b[0m\n\u001b[1;32m      1\u001b[0m \u001b[0mintrin\u001b[0m \u001b[0;34m=\u001b[0m \u001b[0mnp\u001b[0m\u001b[0;34m.\u001b[0m\u001b[0midentity\u001b[0m\u001b[0;34m(\u001b[0m\u001b[0;36m4\u001b[0m\u001b[0;34m)\u001b[0m\u001b[0;34m\u001b[0m\u001b[0m\n\u001b[0;32m----> 2\u001b[0;31m \u001b[0mzz\u001b[0m \u001b[0;34m=\u001b[0m \u001b[0mz\u001b[0m \u001b[0;34m*\u001b[0m \u001b[0mintrin\u001b[0m\u001b[0;34m\u001b[0m\u001b[0m\n\u001b[0m",
      "\u001b[0;31mValueError\u001b[0m: operands could not be broadcast together with shapes (5,3) (4,4) "
     ]
    }
   ],
   "source": [
    "intrin = np.identity(4)\n",
    "zz = z * intrin"
   ]
  },
  {
   "cell_type": "code",
   "execution_count": null,
   "metadata": {},
   "outputs": [],
   "source": []
  }
 ],
 "metadata": {
  "kernelspec": {
   "display_name": "Python 3",
   "language": "python",
   "name": "python3"
  },
  "language_info": {
   "codemirror_mode": {
    "name": "ipython",
    "version": 3
   },
   "file_extension": ".py",
   "mimetype": "text/x-python",
   "name": "python",
   "nbconvert_exporter": "python",
   "pygments_lexer": "ipython3",
   "version": "3.6.5"
  }
 },
 "nbformat": 4,
 "nbformat_minor": 2
}
